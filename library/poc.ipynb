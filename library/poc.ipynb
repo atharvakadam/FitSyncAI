{
 "cells": [
  {
   "cell_type": "code",
   "execution_count": null,
   "metadata": {},
   "outputs": [],
   "source": [
    "%pip install -U langgraph langsmith langchain_anthropic langchain_openai langchain_community langchain_experimental"
   ]
  },
  {
   "cell_type": "code",
   "execution_count": 2,
   "metadata": {},
   "outputs": [],
   "source": [
    "from typing import Annotated\n",
    "\n",
    "from langchain_community.tools.tavily_search import TavilySearchResults\n",
    "from langchain_core.tools import tool\n",
    "from langchain_experimental.utilities import PythonREPL\n",
    "\n",
    "tavily_tool = TavilySearchResults(max_results=5)\n",
    "\n",
    "# This executes code locally, which can be unsafe\n",
    "repl = PythonREPL()\n",
    "\n",
    "\n",
    "@tool\n",
    "def python_repl_tool(\n",
    "    code: Annotated[str, \"The python code to execute to generate your chart.\"],\n",
    "):\n",
    "    \"\"\"Use this to execute python code and do math. If you want to see the output of a value,\n",
    "    you should print it out with `print(...)`. This is visible to the user.\"\"\"\n",
    "    try:\n",
    "        result = repl.run(code)\n",
    "    except BaseException as e:\n",
    "        return f\"Failed to execute. Error: {repr(e)}\"\n",
    "    result_str = f\"Successfully executed:\\n\\`\\`\\`python\\n{code}\\n\\`\\`\\`\\nStdout: {result}\"\n",
    "    return result_str"
   ]
  },
  {
   "cell_type": "code",
   "execution_count": 3,
   "metadata": {},
   "outputs": [],
   "source": [
    "from typing import Literal\n",
    "from typing_extensions import TypedDict\n",
    "\n",
    "from langchain_anthropic import ChatAnthropic\n",
    "from langchain_openai import ChatOpenAI\n",
    "from langgraph.graph import MessagesState, END\n",
    "from langgraph.types import Command\n",
    "\n",
    "\n",
    "members = [\"researcher\", \"coder\"]\n",
    "# Our team supervisor is an LLM node. It just picks the next agent to process\n",
    "# and decides when the work is completed\n",
    "options = members + [\"FINISH\"]\n",
    "\n",
    "system_prompt = (\n",
    "    \"You are a supervisor tasked with managing a conversation between the\"\n",
    "    f\" following workers: {members}. Given the following user request,\"\n",
    "    \" respond with the worker to act next. Each worker will perform a\"\n",
    "    \" task and respond with their results and status. When finished,\"\n",
    "    \" respond with FINISH.\"\n",
    ")\n",
    "\n",
    "\n",
    "class Router(TypedDict):\n",
    "    \"\"\"Worker to route to next. If no workers needed, route to FINISH.\"\"\"\n",
    "\n",
    "    next: Literal[*options]\n",
    "\n",
    "\n",
    "# llm = ChatAnthropic(model=\"claude-3-5-sonnet-latest\")\n",
    "llm = ChatOpenAI(model=\"gpt-4o\")\n",
    "\n",
    "\n",
    "class State(MessagesState):\n",
    "    next: str\n",
    "\n",
    "\n",
    "def supervisor_node(state: State) -> Command[Literal[*members, \"__end__\"]]:\n",
    "    messages = [\n",
    "        {\"role\": \"system\", \"content\": system_prompt},\n",
    "    ] + state[\"messages\"]\n",
    "    response = llm.with_structured_output(Router).invoke(messages)\n",
    "    goto = response[\"next\"]\n",
    "    if goto == \"FINISH\":\n",
    "        goto = END\n",
    "\n",
    "    return Command(goto=goto, update={\"next\": goto})"
   ]
  },
  {
   "cell_type": "code",
   "execution_count": 4,
   "metadata": {},
   "outputs": [],
   "source": [
    "from langchain_core.messages import HumanMessage\n",
    "from langgraph.graph import StateGraph, START, END\n",
    "from langgraph.prebuilt import create_react_agent\n",
    "\n",
    "\n",
    "research_agent = create_react_agent(\n",
    "    llm, tools=[tavily_tool], prompt=\"You are a researcher. DO NOT do any math.\"\n",
    ")\n",
    "\n",
    "\n",
    "def research_node(state: State) -> Command[Literal[\"supervisor\"]]:\n",
    "    result = research_agent.invoke(state)\n",
    "    return Command(\n",
    "        update={\n",
    "            \"messages\": [\n",
    "                HumanMessage(content=result[\"messages\"][-1].content, name=\"researcher\")\n",
    "            ]\n",
    "        },\n",
    "        goto=\"supervisor\",\n",
    "    )\n",
    "\n",
    "\n",
    "# NOTE: THIS PERFORMS ARBITRARY CODE EXECUTION, WHICH CAN BE UNSAFE WHEN NOT SANDBOXED\n",
    "code_agent = create_react_agent(llm, tools=[python_repl_tool])\n",
    "\n",
    "\n",
    "def code_node(state: State) -> Command[Literal[\"supervisor\"]]:\n",
    "    result = code_agent.invoke(state)\n",
    "    return Command(\n",
    "        update={\n",
    "            \"messages\": [\n",
    "                HumanMessage(content=result[\"messages\"][-1].content, name=\"coder\")\n",
    "            ]\n",
    "        },\n",
    "        goto=\"supervisor\",\n",
    "    )\n",
    "\n",
    "\n",
    "builder = StateGraph(State)\n",
    "builder.add_edge(START, \"supervisor\")\n",
    "builder.add_node(\"supervisor\", supervisor_node)\n",
    "builder.add_node(\"researcher\", research_node)\n",
    "builder.add_node(\"coder\", code_node)\n",
    "graph = builder.compile()"
   ]
  },
  {
   "cell_type": "code",
   "execution_count": 5,
   "metadata": {},
   "outputs": [
    {
     "data": {
      "image/png": "[encoded data removed]",
      "text/plain": [
       "<IPython.core.display.Image object>"
      ]
     },
     "metadata": {},
     "output_type": "display_data"
    }
   ],
   "source": [
    "from IPython.display import display, Image\n",
    "\n",
    "display(Image(graph.get_graph().draw_mermaid_png()))"
   ]
  },
  {
   "cell_type": "code",
   "execution_count": 6,
   "metadata": {},
   "outputs": [
    {
     "name": "stdout",
     "output_type": "stream",
     "text": [
      "((), {'supervisor': {'next': 'coder'}})\n",
      "----\n"
     ]
    },
    {
     "name": "stderr",
     "output_type": "stream",
     "text": [
      "Python REPL can execute arbitrary code. Use with caution.\n"
     ]
    },
    {
     "name": "stdout",
     "output_type": "stream",
     "text": [
      "(('coder:e4d42bb2-9a69-ea77-0ada-5a72814a18e9',), {'agent': {'messages': [AIMessage(content='', additional_kwargs={'tool_calls': [{'id': 'call_CQDMEg2m8NEKTgtiW0tfPdBi', 'function': {'arguments': '{\"code\":\"import math\\\\nmath.sqrt(42)\"}', 'name': 'python_repl_tool'}, 'type': 'function'}], 'refusal': None}, response_metadata={'token_usage': {'completion_tokens': 24, 'prompt_tokens': 96, 'total_tokens': 120, 'completion_tokens_details': {'accepted_prediction_tokens': 0, 'audio_tokens': 0, 'reasoning_tokens': 0, 'rejected_prediction_tokens': 0}, 'prompt_tokens_details': {'audio_tokens': 0, 'cached_tokens': 0}}, 'model_name': 'gpt-4o-2024-08-06', 'system_fingerprint': 'fp_898ac29719', 'id': 'chatcmpl-BJTxdlLU0OCAJSMH8qSa8OP5J7Sqh', 'finish_reason': 'tool_calls', 'logprobs': None}, id='run-0f144ef1-d3d2-45ef-8e33-6b1b64c4dac0-0', tool_calls=[{'name': 'python_repl_tool', 'args': {'code': 'import math\\nmath.sqrt(42)'}, 'id': 'call_CQDMEg2m8NEKTgtiW0tfPdBi', 'type': 'tool_call'}], usage_metadata={'input_tokens': 96, 'output_tokens': 24, 'total_tokens': 120, 'input_token_details': {'audio': 0, 'cache_read': 0}, 'output_token_details': {'audio': 0, 'reasoning': 0}})]}})\n",
      "----\n",
      "(('coder:e4d42bb2-9a69-ea77-0ada-5a72814a18e9',), {'tools': {'messages': [ToolMessage(content='Successfully executed:\\n\\\\`\\\\`\\\\`python\\nimport math\\nmath.sqrt(42)\\n\\\\`\\\\`\\\\`\\nStdout: ', name='python_repl_tool', id='e071fb7f-3147-4fad-a34c-1089ce168773', tool_call_id='call_CQDMEg2m8NEKTgtiW0tfPdBi')]}})\n",
      "----\n",
      "(('coder:e4d42bb2-9a69-ea77-0ada-5a72814a18e9',), {'agent': {'messages': [AIMessage(content='6.48074069840786', additional_kwargs={'refusal': None}, response_metadata={'token_usage': {'completion_tokens': 9, 'prompt_tokens': 154, 'total_tokens': 163, 'completion_tokens_details': {'accepted_prediction_tokens': 0, 'audio_tokens': 0, 'reasoning_tokens': 0, 'rejected_prediction_tokens': 0}, 'prompt_tokens_details': {'audio_tokens': 0, 'cached_tokens': 0}}, 'model_name': 'gpt-4o-2024-08-06', 'system_fingerprint': 'fp_898ac29719', 'id': 'chatcmpl-BJTxedAqEAkad7ohbMPIpOVc0W3PK', 'finish_reason': 'stop', 'logprobs': None}, id='run-f6fd7faa-14bc-4217-9d7a-2b12e5900b03-0', usage_metadata={'input_tokens': 154, 'output_tokens': 9, 'total_tokens': 163, 'input_token_details': {'audio': 0, 'cache_read': 0}, 'output_token_details': {'audio': 0, 'reasoning': 0}})]}})\n",
      "----\n",
      "((), {'coder': {'messages': [HumanMessage(content='6.48074069840786', additional_kwargs={}, response_metadata={}, name='coder')]}})\n",
      "----\n",
      "((), {'supervisor': {'next': '__end__'}})\n",
      "----\n"
     ]
    }
   ],
   "source": [
    "for s in graph.stream(\n",
    "    {\"messages\": [(\"user\", \"What's the square root of 42?\")]}, subgraphs=True\n",
    "):\n",
    "    print(s)\n",
    "    print(\"----\")"
   ]
  },
  {
   "cell_type": "code",
   "execution_count": 7,
   "metadata": {},
   "outputs": [
    {
     "name": "stdout",
     "output_type": "stream",
     "text": [
      "((), {'supervisor': {'next': 'researcher'}})\n",
      "----\n",
      "(('researcher:c58c16d4-e950-eb6d-52fd-9faa2e7f063a',), {'agent': {'messages': [AIMessage(content='', additional_kwargs={'tool_calls': [{'id': 'call_a2osz8a3xnAyIwirOC79BT62', 'function': {'arguments': '{\"query\": \"latest GDP of New York 2024\"}', 'name': 'tavily_search_results_json'}, 'type': 'function'}, {'id': 'call_aNc27j29KzjVrHxuREelsCbd', 'function': {'arguments': '{\"query\": \"latest GDP of California 2024\"}', 'name': 'tavily_search_results_json'}, 'type': 'function'}], 'refusal': None}, response_metadata={'token_usage': {'completion_tokens': 66, 'prompt_tokens': 104, 'total_tokens': 170, 'completion_tokens_details': {'accepted_prediction_tokens': 0, 'audio_tokens': 0, 'reasoning_tokens': 0, 'rejected_prediction_tokens': 0}, 'prompt_tokens_details': {'audio_tokens': 0, 'cached_tokens': 0}}, 'model_name': 'gpt-4o-2024-08-06', 'system_fingerprint': 'fp_6dd05565ef', 'id': 'chatcmpl-BJTxfXHMRl10Cm1zW13a4vTEJ9WYj', 'finish_reason': 'tool_calls', 'logprobs': None}, id='run-9ea99eab-df5b-4592-8589-aca36c12d8da-0', tool_calls=[{'name': 'tavily_search_results_json', 'args': {'query': 'latest GDP of New York 2024'}, 'id': 'call_a2osz8a3xnAyIwirOC79BT62', 'type': 'tool_call'}, {'name': 'tavily_search_results_json', 'args': {'query': 'latest GDP of California 2024'}, 'id': 'call_aNc27j29KzjVrHxuREelsCbd', 'type': 'tool_call'}], usage_metadata={'input_tokens': 104, 'output_tokens': 66, 'total_tokens': 170, 'input_token_details': {'audio': 0, 'cache_read': 0}, 'output_token_details': {'audio': 0, 'reasoning': 0}})]}})\n",
      "----\n",
      "(('researcher:c58c16d4-e950-eb6d-52fd-9faa2e7f063a',), {'tools': {'messages': [ToolMessage(content='[{\"title\": \"Gross Domestic Product: All Industry Total in New York\", \"url\": \"https://tradingeconomics.com/united-states/total-gross-domestic-product-by-industry-for-new-york-fed-data.html\", \"content\": \"Gross Domestic Product: All Industry Total in New York was 2310967.90000 Mil. of $ in July of 2024, according to the United States Federal Reserve. Historically, Gross Domestic Product: All Industry Total in New York reached a record high of 2310967.90000 in July of 2024 and a record low of 981497.30000 in January of 2005. Trading Economics provides the current actual value, an historical data chart and related indicators for Gross Domestic Product: All Industry Total in New York - last updated\", \"score\": 0.89849097}, {\"title\": \"[PDF] State of the New York City Economy - NYCEDC\", \"url\": \"https://edc.nyc/sites/default/files/2025-01/NYCEDC-State-of-the-NYC-Economy-2024-v3.pdf\", \"content\": \"for talent faced a limited supply. STATE OF THE NEW YORK CITY ECONOMY 2024 / 21 STATE OF THE NEW YORK CITY ECONOMY 2024 / 22 After losing nearly a million jobs during the COVID-19 pandemic, New York City is now at record-high levels of private and total employment. The city’s gross city product (GCP) stands at $1.18 trillion as of 2023.24 While legacy sectors such as Finance and Insurance have continued to play a vital part in the city’s economic successes, emerging sectors like Tech, the Green [...] STATE OF THE NEW YORK CITY ECONOMY 2024 / 11 New York City’s economy is the largest in the nation, with $2 trillion in gross metropolitan product (GMP) for the metro area, representing 9% of the total US economy. As such, the city’s economy is closely intertwined with the broader national economic landscape, and US macroeconomic conditions play a significant role in shaping the economic backdrop for the city. National interest rates, inflation, gross domestic product (GDP), and employment [...] 1 Macro Trends STATE OF THE NEW YORK CITY ECONOMY 2024 / 12 Output Has Grown Faster in NYC than Nationally Since 2022 Actual and Projected US Real GDP and NYC Real GCP Growth Rates 2019 2020 2021 2022 2023 2024* 2025* NYC 2.6% -4.2% 5.5% 2.6% 2.8% 3.6% 1.9% US 2.5% -2.2% 5.8% 1.9% 2.5% 2.5% 1.4% Source: NYC OMB and US Bureau of Economic Analysis. Projections for 2024 and and 2025 from NYC OMB.\", \"score\": 0.7703443}, {\"title\": \"Annual State of the City\\'s Economy and Finances 2024\", \"url\": \"https://comptroller.nyc.gov/reports/annual-state-of-the-citys-economy-and-finances-2024/\", \"content\": \"| Total | $2,698 | $2,221 | $2,223 | $2,262 | $2,271 |\\\\nSource: Office of the New York City Comptroller, Mayor’s Office of Management and Budget [...] | All Other Civilians | 308 | 189 | 174 | 169 |\\\\n| Subtotal | 733 | 370 | 281 | 264 |\\\\n| TOTAL | 733 | 370 | 281 | 264 |\\\\n| Percent change | 0.2% | 0.1% | 0.1% | 0.1% |\\\\nSource: Office of the New York City Comptroller, Mayor’s Office of Management and Budget [...] | All Other Civilians | 32,431 | 32,082 | 32,045 | 32,036 | (1.2%) |\\\\n| Subtotal | 109,854 | 108,506 | 108,387 | 108,345 | (1.4%) |\\\\n| TOTAL | 300,299 | 297,023 | 296,904 | 296,862 | (1.1%) |\\\\nSource: Office of the New York City Comptroller, Mayor’s Office of Management and Budget\", \"score\": 0.69099766}]', name='tavily_search_results_json', id='9738b16e-3c42-4ea0-997c-eb5812fd8b9a', tool_call_id='call_a2osz8a3xnAyIwirOC79BT62', artifact={'query': 'latest GDP of New York 2024', 'follow_up_questions': None, 'answer': None, 'images': [], 'results': [{'url': 'https://tradingeconomics.com/united-states/total-gross-domestic-product-by-industry-for-new-york-fed-data.html', 'title': 'Gross Domestic Product: All Industry Total in New York', 'content': 'Gross Domestic Product: All Industry Total in New York was 2310967.90000 Mil. of $ in July of 2024, according to the United States Federal Reserve. Historically, Gross Domestic Product: All Industry Total in New York reached a record high of 2310967.90000 in July of 2024 and a record low of 981497.30000 in January of 2005. Trading Economics provides the current actual value, an historical data chart and related indicators for Gross Domestic Product: All Industry Total in New York - last updated', 'score': 0.89849097, 'raw_content': None}, {'url': 'https://edc.nyc/sites/default/files/2025-01/NYCEDC-State-of-the-NYC-Economy-2024-v3.pdf', 'title': '[PDF] State of the New York City Economy - NYCEDC', 'content': 'for talent faced a limited supply. STATE OF THE NEW YORK CITY ECONOMY 2024 / 21 STATE OF THE NEW YORK CITY ECONOMY 2024 / 22 After losing nearly a million jobs during the COVID-19 pandemic, New York City is now at record-high levels of private and total employment. The city’s gross city product (GCP) stands at $1.18 trillion as of 2023.24 While legacy sectors such as Finance and Insurance have continued to play a vital part in the city’s economic successes, emerging sectors like Tech, the Green [...] STATE OF THE NEW YORK CITY ECONOMY 2024 / 11 New York City’s economy is the largest in the nation, with $2 trillion in gross metropolitan product (GMP) for the metro area, representing 9% of the total US economy. As such, the city’s economy is closely intertwined with the broader national economic landscape, and US macroeconomic conditions play a significant role in shaping the economic backdrop for the city. National interest rates, inflation, gross domestic product (GDP), and employment [...] 1 Macro Trends STATE OF THE NEW YORK CITY ECONOMY 2024 / 12 Output Has Grown Faster in NYC than Nationally Since 2022 Actual and Projected US Real GDP and NYC Real GCP Growth Rates 2019 2020 2021 2022 2023 2024* 2025* NYC 2.6% -4.2% 5.5% 2.6% 2.8% 3.6% 1.9% US 2.5% -2.2% 5.8% 1.9% 2.5% 2.5% 1.4% Source: NYC OMB and US Bureau of Economic Analysis. Projections for 2024 and and 2025 from NYC OMB.', 'score': 0.7703443, 'raw_content': None}, {'url': 'https://comptroller.nyc.gov/reports/annual-state-of-the-citys-economy-and-finances-2024/', 'title': \"Annual State of the City's Economy and Finances 2024\", 'content': '| Total | $2,698 | $2,221 | $2,223 | $2,262 | $2,271 |\\nSource: Office of the New York City Comptroller, Mayor’s Office of Management and Budget [...] | All Other Civilians | 308 | 189 | 174 | 169 |\\n| Subtotal | 733 | 370 | 281 | 264 |\\n| TOTAL | 733 | 370 | 281 | 264 |\\n| Percent change | 0.2% | 0.1% | 0.1% | 0.1% |\\nSource: Office of the New York City Comptroller, Mayor’s Office of Management and Budget [...] | All Other Civilians | 32,431 | 32,082 | 32,045 | 32,036 | (1.2%) |\\n| Subtotal | 109,854 | 108,506 | 108,387 | 108,345 | (1.4%) |\\n| TOTAL | 300,299 | 297,023 | 296,904 | 296,862 | (1.1%) |\\nSource: Office of the New York City Comptroller, Mayor’s Office of Management and Budget', 'score': 0.69099766, 'raw_content': None}], 'response_time': 2.19}), ToolMessage(content='[{\"title\": \"Economy of California - Wikipedia\", \"url\": \"https://en.wikipedia.org/wiki/Economy_of_California\", \"content\": \"Jump to content\\\\nMain menu\\\\nSearch\\\\nDonate\\\\nCreate account\\\\nLog in\\\\nPersonal tools\\\\nToggle the table of contents\\\\nEconomy of California\\\\n14 languages\\\\nArticle\\\\nTalk\\\\nRead\\\\nEdit\\\\nView history\\\\nTools\\\\nFrom Wikipedia, the free encyclopedia\\\\nEconomy of California\\\\nLos Angeles, the largest city in California\\\\nStatistics\\\\nGDP $4.1 trillion (2024)[1]\\\\nGDP per capita  $104,920 (2024)[2]\\\\nPopulation below poverty line   13.34% (absolute)[3]\\\\n19.1% (relative)[4]\\\\nLabor force 19,254,000 (November 2022)[5] [...] The economy of the State of California is the largest in the United States, with a $4.080 trillion gross state product (GSP) as of 2024.[1] It is the largest sub-national economy in the world. If California were a nation it would rank in terms of nominal GDP as the List of countries by GDP World\\'s sixth largest economy, behind India (4.27 trillion) and ahead of United Kingdom (3.730 trillion). Additionally, California\\'s Silicon Valley is home to some of the world\\'s most valuable technology [...] Unemployment    5.3% (SEPT. 2024)[6]\\\\nPublic finances\\\\nRevenues    $195.73 billion (2022-23)\\\\nExpenses    $286.4 billion (2022-23)[7]\\\\nThe 2021 California economy compared to the rest of U.S. and other countries, showing the larger economies in nominal GDP terms\\\\n\\xa0\\xa0California unemployment rate, 1976–2024\\\\n\\xa0\\xa0US unemployment rate\", \"score\": 0.8815438}, {\"title\": \"Los Angeles has the nation\\'s No. 1 economy by county\", \"url\": \"https://www.dailynews.com/2024/12/09/california-has-10-of-nations-largest-economies-by-county/\", \"content\": \"As of June 2024, California\\'s statewide GDP was running at a pace of $4.1 trillion. That trails the US, China, Germany and Japan. But No. 6\", \"score\": 0.8684817}, {\"title\": \"Texas vs. California Economy: Which State is Best for Business?\", \"url\": \"https://businessintexas.com/blog/texas-vs-california-economy-which-state-is-best-for-business/\", \"content\": \"California: With a GDP of $4.1 trillion in 2024, California remains the largest state economy in the U.S. However, its growth rate over the\", \"score\": 0.84277284}, {\"title\": \"California\\'s Economy in 2024: Year in Review & What Lies Ahead ...\", \"url\": \"https://www.speedcommerce.com/insights/californias-economy-in-2024-year-in-review-what-lies-ahead-for-2025/\", \"content\": \"California’s economy lagged behind other states in 2024, with growth falling below expectations. According to the UCLA Anderson Forecast, the state experienced a 2.8% GDP growth rate in Q2 2024, which is slower than the national rate and down from its 3.7% annual growth rate in 2023. Employment challenges, housing market stagnation, and environmental issues contributed to what economists have labeled a “subpar” year for California. [...] However, despite these departures, Governor Gavin Newsom emphasized the state’s resilience. He pointed out that 660 California companies made it onto Inc. magazine’s 2024 list of the fastest-growing U.S. businesses, collectively creating 81,000 new jobs. Newsom also highlighted that California’s GDP remains robust at nearly $3.9 trillion, making it the 5th largest economy in the world.\\\\n\\\\nHousing Market Stagnation [...] California’s economy in 2024 faced challenges, from environmental disruptions to high-profile business departures and housing market stagnation. However, the state is resilient, continuing to rank as the 5th largest economy in the world with a diverse and dynamic industrial base. Looking ahead to 2025 and 2026, California’s economy is expected to rebound, driven by key sectors such as technology, aerospace, and logistics.\", \"score\": 0.84183896}, {\"title\": \"California\\'s economy: 2024 year in review - CalMatters\", \"url\": \"https://calmatters.org/economy/2024/12/california-economy-2024-review/\", \"content\": \"All of the articles at CalMatters are available to republish for free, under the following conditions:\\\\n\\\\n\\\\n\\\\n\\\\n\\\\n\\\\n\\\\n\\\\n\\\\n\\\\n\\\\n\\\\n\\\\n\\\\n\\\\n\\\\n\\\\n\\\\n\\\\n\\\\n\\\\nIf you’d like to regularly republish our stories, we have some other options available. Contact us at republish@calmatters.org if you’re interested.\\\\n\\\\n\\\\n\\\\nHave other questions or special requests? Or do you have a great story to share about the impact of one of our stories on your audience? We’d love to hear from you. Contact us at republish@calmatters.org.\\\\n\\\\nThe Latest [...] Welcome to CalMatters, the only nonprofit newsroom devoted solely to covering issues that affect all Californians. Sign up for\\xa0WhatMatters\\xa0to receive the latest news and commentary on the most important issues in the Golden State.\\\\n\\\\nCalifornia, which saw economic ups and downs in 2024, heads into a year of uncertainty that will be shaped in part by the actions of the incoming presidential administration. [...] California’s economy of ups, downs and uncertainty: 2024 year in review\\\\n\\\\nShare this:\\\\n\\\\nIn summary\\\\n\\\\nDespite a budget deficit and continued high costs, there was good news and bad news for the California economy in 2024. The next year will depend in part on what the Trump administration does.\", \"score\": 0.48703963}]', name='tavily_search_results_json', id='93223435-8dc8-45fc-aff9-374a0137aa4a', tool_call_id='call_aNc27j29KzjVrHxuREelsCbd', artifact={'query': 'latest GDP of California 2024', 'follow_up_questions': None, 'answer': None, 'images': [], 'results': [{'url': 'https://en.wikipedia.org/wiki/Economy_of_California', 'title': 'Economy of California - Wikipedia', 'content': \"Jump to content\\nMain menu\\nSearch\\nDonate\\nCreate account\\nLog in\\nPersonal tools\\nToggle the table of contents\\nEconomy of California\\n14 languages\\nArticle\\nTalk\\nRead\\nEdit\\nView history\\nTools\\nFrom Wikipedia, the free encyclopedia\\nEconomy of California\\nLos Angeles, the largest city in California\\nStatistics\\nGDP $4.1 trillion (2024)[1]\\nGDP per capita  $104,920 (2024)[2]\\nPopulation below poverty line   13.34% (absolute)[3]\\n19.1% (relative)[4]\\nLabor force 19,254,000 (November 2022)[5] [...] The economy of the State of California is the largest in the United States, with a $4.080 trillion gross state product (GSP) as of 2024.[1] It is the largest sub-national economy in the world. If California were a nation it would rank in terms of nominal GDP as the List of countries by GDP World's sixth largest economy, behind India (4.27 trillion) and ahead of United Kingdom (3.730 trillion). Additionally, California's Silicon Valley is home to some of the world's most valuable technology [...] Unemployment    5.3% (SEPT. 2024)[6]\\nPublic finances\\nRevenues    $195.73 billion (2022-23)\\nExpenses    $286.4 billion (2022-23)[7]\\nThe 2021 California economy compared to the rest of U.S. and other countries, showing the larger economies in nominal GDP terms\\n\\xa0\\xa0California unemployment rate, 1976–2024\\n\\xa0\\xa0US unemployment rate\", 'score': 0.8815438, 'raw_content': None}, {'url': 'https://www.dailynews.com/2024/12/09/california-has-10-of-nations-largest-economies-by-county/', 'title': \"Los Angeles has the nation's No. 1 economy by county\", 'content': \"As of June 2024, California's statewide GDP was running at a pace of $4.1 trillion. That trails the US, China, Germany and Japan. But No. 6\", 'score': 0.8684817, 'raw_content': None}, {'url': 'https://businessintexas.com/blog/texas-vs-california-economy-which-state-is-best-for-business/', 'title': 'Texas vs. California Economy: Which State is Best for Business?', 'content': 'California: With a GDP of $4.1 trillion in 2024, California remains the largest state economy in the U.S. However, its growth rate over the', 'score': 0.84277284, 'raw_content': None}, {'url': 'https://www.speedcommerce.com/insights/californias-economy-in-2024-year-in-review-what-lies-ahead-for-2025/', 'title': \"California's Economy in 2024: Year in Review & What Lies Ahead ...\", 'content': 'California’s economy lagged behind other states in 2024, with growth falling below expectations. According to the UCLA Anderson Forecast, the state experienced a 2.8% GDP growth rate in Q2 2024, which is slower than the national rate and down from its 3.7% annual growth rate in 2023. Employment challenges, housing market stagnation, and environmental issues contributed to what economists have labeled a “subpar” year for California. [...] However, despite these departures, Governor Gavin Newsom emphasized the state’s resilience. He pointed out that 660 California companies made it onto Inc. magazine’s 2024 list of the fastest-growing U.S. businesses, collectively creating 81,000 new jobs. Newsom also highlighted that California’s GDP remains robust at nearly $3.9 trillion, making it the 5th largest economy in the world.\\n\\nHousing Market Stagnation [...] California’s economy in 2024 faced challenges, from environmental disruptions to high-profile business departures and housing market stagnation. However, the state is resilient, continuing to rank as the 5th largest economy in the world with a diverse and dynamic industrial base. Looking ahead to 2025 and 2026, California’s economy is expected to rebound, driven by key sectors such as technology, aerospace, and logistics.', 'score': 0.84183896, 'raw_content': None}, {'url': 'https://calmatters.org/economy/2024/12/california-economy-2024-review/', 'title': \"California's economy: 2024 year in review - CalMatters\", 'content': 'All of the articles at CalMatters are available to republish for free, under the following conditions:\\n\\n\\n\\n\\n\\n\\n\\n\\n\\n\\n\\n\\n\\n\\n\\n\\n\\n\\n\\n\\n\\nIf you’d like to regularly republish our stories, we have some other options available. Contact us at republish@calmatters.org if you’re interested.\\n\\n\\n\\nHave other questions or special requests? Or do you have a great story to share about the impact of one of our stories on your audience? We’d love to hear from you. Contact us at republish@calmatters.org.\\n\\nThe Latest [...] Welcome to CalMatters, the only nonprofit newsroom devoted solely to covering issues that affect all Californians. Sign up for\\xa0WhatMatters\\xa0to receive the latest news and commentary on the most important issues in the Golden State.\\n\\nCalifornia, which saw economic ups and downs in 2024, heads into a year of uncertainty that will be shaped in part by the actions of the incoming presidential administration. [...] California’s economy of ups, downs and uncertainty: 2024 year in review\\n\\nShare this:\\n\\nIn summary\\n\\nDespite a budget deficit and continued high costs, there was good news and bad news for the California economy in 2024. The next year will depend in part on what the Trump administration does.', 'score': 0.48703963, 'raw_content': None}], 'response_time': 2.4})]}})\n",
      "----\n",
      "(('researcher:c58c16d4-e950-eb6d-52fd-9faa2e7f063a',), {'agent': {'messages': [AIMessage(content=\"The latest Gross Domestic Product (GDP) values for New York and California in 2024 are as follows:\\n\\n- New York: Approximately $2,310,967.9 million (or $2.31 trillion) as of July 2024.\\n- California: Approximately $4.1 trillion as of 2024.\\n\\nTo find the average GDP of New York and California, you would add these two figures together and divide by two. However, since I'm not performing calculations, you can use these values to find the average GDP.\", additional_kwargs={'refusal': None}, response_metadata={'token_usage': {'completion_tokens': 110, 'prompt_tokens': 2497, 'total_tokens': 2607, 'completion_tokens_details': {'accepted_prediction_tokens': 0, 'audio_tokens': 0, 'reasoning_tokens': 0, 'rejected_prediction_tokens': 0}, 'prompt_tokens_details': {'audio_tokens': 0, 'cached_tokens': 0}}, 'model_name': 'gpt-4o-2024-08-06', 'system_fingerprint': 'fp_6dd05565ef', 'id': 'chatcmpl-BJTxj727kijPzBYg4bnjaXoIIXLak', 'finish_reason': 'stop', 'logprobs': None}, id='run-c5366d01-de29-4483-8657-16ffd16760c9-0', usage_metadata={'input_tokens': 2497, 'output_tokens': 110, 'total_tokens': 2607, 'input_token_details': {'audio': 0, 'cache_read': 0}, 'output_token_details': {'audio': 0, 'reasoning': 0}})]}})\n",
      "----\n",
      "((), {'researcher': {'messages': [HumanMessage(content=\"The latest Gross Domestic Product (GDP) values for New York and California in 2024 are as follows:\\n\\n- New York: Approximately $2,310,967.9 million (or $2.31 trillion) as of July 2024.\\n- California: Approximately $4.1 trillion as of 2024.\\n\\nTo find the average GDP of New York and California, you would add these two figures together and divide by two. However, since I'm not performing calculations, you can use these values to find the average GDP.\", additional_kwargs={}, response_metadata={}, name='researcher')]}})\n",
      "----\n",
      "((), {'supervisor': {'next': 'coder'}})\n",
      "----\n",
      "(('coder:af6e30ad-8b3d-a26d-7ff3-e0aa67857f30',), {'agent': {'messages': [AIMessage(content='', additional_kwargs={'tool_calls': [{'id': 'call_ixXsWK8z2Uzltb62RZpHNUhM', 'function': {'arguments': '{\"code\":\"new_york_gdp = 2310967.9\\\\ncalifornia_gdp = 4100000\\\\naverage_gdp = (new_york_gdp + california_gdp) / 2\\\\naverage_gdp\"}', 'name': 'python_repl_tool'}, 'type': 'function'}], 'refusal': None}, response_metadata={'token_usage': {'completion_tokens': 61, 'prompt_tokens': 217, 'total_tokens': 278, 'completion_tokens_details': {'accepted_prediction_tokens': 0, 'audio_tokens': 0, 'reasoning_tokens': 0, 'rejected_prediction_tokens': 0}, 'prompt_tokens_details': {'audio_tokens': 0, 'cached_tokens': 0}}, 'model_name': 'gpt-4o-2024-08-06', 'system_fingerprint': 'fp_898ac29719', 'id': 'chatcmpl-BJTxlQFvCrts2EcwoCdsCeCvquNaf', 'finish_reason': 'tool_calls', 'logprobs': None}, id='run-9ecd5180-12ac-4fd8-9fe2-f52885f0b4fc-0', tool_calls=[{'name': 'python_repl_tool', 'args': {'code': 'new_york_gdp = 2310967.9\\ncalifornia_gdp = 4100000\\naverage_gdp = (new_york_gdp + california_gdp) / 2\\naverage_gdp'}, 'id': 'call_ixXsWK8z2Uzltb62RZpHNUhM', 'type': 'tool_call'}], usage_metadata={'input_tokens': 217, 'output_tokens': 61, 'total_tokens': 278, 'input_token_details': {'audio': 0, 'cache_read': 0}, 'output_token_details': {'audio': 0, 'reasoning': 0}})]}})\n",
      "----\n",
      "(('coder:af6e30ad-8b3d-a26d-7ff3-e0aa67857f30',), {'tools': {'messages': [ToolMessage(content='Successfully executed:\\n\\\\`\\\\`\\\\`python\\nnew_york_gdp = 2310967.9\\ncalifornia_gdp = 4100000\\naverage_gdp = (new_york_gdp + california_gdp) / 2\\naverage_gdp\\n\\\\`\\\\`\\\\`\\nStdout: ', name='python_repl_tool', id='0cd67a1c-9f5b-430e-b72d-51603bbc6cfb', tool_call_id='call_ixXsWK8z2Uzltb62RZpHNUhM')]}})\n",
      "----\n",
      "(('coder:af6e30ad-8b3d-a26d-7ff3-e0aa67857f30',), {'agent': {'messages': [AIMessage(content='The average GDP of New York and California is approximately $3,205,483.95 million (or $3.21 trillion).', additional_kwargs={'refusal': None}, response_metadata={'token_usage': {'completion_tokens': 29, 'prompt_tokens': 350, 'total_tokens': 379, 'completion_tokens_details': {'accepted_prediction_tokens': 0, 'audio_tokens': 0, 'reasoning_tokens': 0, 'rejected_prediction_tokens': 0}, 'prompt_tokens_details': {'audio_tokens': 0, 'cached_tokens': 0}}, 'model_name': 'gpt-4o-2024-08-06', 'system_fingerprint': 'fp_898ac29719', 'id': 'chatcmpl-BJTxmzk4sYKw1Y6R8twEaWxig9nYg', 'finish_reason': 'stop', 'logprobs': None}, id='run-9d68450d-c109-4a47-8574-a9c1aaaa8307-0', usage_metadata={'input_tokens': 350, 'output_tokens': 29, 'total_tokens': 379, 'input_token_details': {'audio': 0, 'cache_read': 0}, 'output_token_details': {'audio': 0, 'reasoning': 0}})]}})\n",
      "----\n",
      "((), {'coder': {'messages': [HumanMessage(content='The average GDP of New York and California is approximately $3,205,483.95 million (or $3.21 trillion).', additional_kwargs={}, response_metadata={}, name='coder')]}})\n",
      "----\n",
      "((), {'supervisor': {'next': '__end__'}})\n",
      "----\n"
     ]
    }
   ],
   "source": [
    "for s in graph.stream(\n",
    "    {\n",
    "        \"messages\": [\n",
    "            (\n",
    "                \"user\",\n",
    "                \"Find the latest GDP of New York and California, then calculate the average\",\n",
    "            )\n",
    "        ]\n",
    "    },\n",
    "    subgraphs=True,\n",
    "):\n",
    "    print(s)\n",
    "    print(\"----\")"
   ]
  },
  {
   "cell_type": "code",
   "execution_count": null,
   "metadata": {},
   "outputs": [],
   "source": []
  },
  {
   "cell_type": "markdown",
   "metadata": {},
   "source": [
    "### TEST"
   ]
  },
  {
   "cell_type": "code",
   "execution_count": 3,
   "metadata": {},
   "outputs": [],
   "source": [
    "from typing import Literal\n",
    "from langchain_openai import ChatOpenAI\n",
    "from langgraph.types import Command\n",
    "from langgraph.graph import StateGraph, MessagesState, START, END\n",
    "\n",
    "model = ChatOpenAI()\n",
    "\n",
    "def supervisor(state: MessagesState) -> Command[Literal[\"agent_1\", \"agent_2\", END]]:\n",
    "    # you can pass relevant parts of the state to the LLM (e.g., state[\"messages\"])\n",
    "    # to determine which agent to call next. a common pattern is to call the model\n",
    "    # with a structured output (e.g. force it to return an output with a \"next_agent\" field)\n",
    "    response = model.invoke(...)\n",
    "    # route to one of the agents or exit based on the supervisor's decision\n",
    "    # if the supervisor returns \"__end__\", the graph will finish execution\n",
    "    return Command(goto=response[\"next_agent\"])\n",
    "\n",
    "def agent_1(state: MessagesState) -> Command[Literal[\"supervisor\"]]:\n",
    "    # you can pass relevant parts of the state to the LLM (e.g., state[\"messages\"])\n",
    "    # and add any additional logic (different models, custom prompts, structured output, etc.)\n",
    "    response = model.invoke(...)\n",
    "    return Command(\n",
    "        goto=\"supervisor\",\n",
    "        update={\"messages\": [response]},\n",
    "    )\n",
    "\n",
    "def agent_2(state: MessagesState) -> Command[Literal[\"supervisor\"]]:\n",
    "    response = model.invoke(...)\n",
    "    return Command(\n",
    "        goto=\"supervisor\",\n",
    "        update={\"messages\": [response]},\n",
    "    )\n",
    "\n",
    "builder = StateGraph(MessagesState)\n",
    "builder.add_node(supervisor)\n",
    "builder.add_node(agent_1)\n",
    "builder.add_node(agent_2)\n",
    "\n",
    "builder.add_edge(START, \"supervisor\")\n",
    "\n",
    "supervisor = builder.compile()"
   ]
  },
  {
   "cell_type": "code",
   "execution_count": null,
   "metadata": {},
   "outputs": [],
   "source": []
  }
 ],
 "metadata": {
  "kernelspec": {
   "display_name": "healthagent",
   "language": "python",
   "name": "python3"
  },
  "language_info": {
   "codemirror_mode": {
    "name": "ipython",
    "version": 3
   },
   "file_extension": ".py",
   "mimetype": "text/x-python",
   "name": "python",
   "nbconvert_exporter": "python",
   "pygments_lexer": "ipython3",
   "version": "3.10.16"
  }
 },
 "nbformat": 4,
 "nbformat_minor": 2
}
